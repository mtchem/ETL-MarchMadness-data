{
 "cells": [
  {
   "cell_type": "markdown",
   "metadata": {},
   "source": [
    "# This notebook uses the March Madness dataset provided by Kaggel.com.  Pleas use kaggel.com to access that data. \n",
    "\n",
    "## *I put the flat data into a SQLite database on my local, for the notebook explaining that process please go to* https://github.com/mtchem/ETL-MarchMadness-data/blob/master/data_to_SQLite_DB.ipynb "
   ]
  },
  {
   "cell_type": "code",
   "execution_count": 1,
   "metadata": {
    "collapsed": false
   },
   "outputs": [],
   "source": [
    "# imports\n",
    "import sqlite3 as sql\n",
    "from sklearn import datasets\n",
    "from sklearn import metrics\n",
    "import pandas as pd\n",
    "import numpy as np\n",
    "import seaborn as sns\n",
    "import matplotlib.pyplot as plt\n",
    "%matplotlib inline\n"
   ]
  },
  {
   "cell_type": "markdown",
   "metadata": {},
   "source": [
    "### Create a connection to the database, pull data from the RegularSeasonDetailedResults table, separate each season into a pandas dataframe and put the dataframes into a dictionary with the year of each season as the key."
   ]
  },
  {
   "cell_type": "code",
   "execution_count": null,
   "metadata": {
    "collapsed": true
   },
   "outputs": [],
   "source": [
    "# creates a connection to by local SQLite NCAA database\n",
    "## * I pull from the database each time to guarantee that no raw/original data is modified\n",
    "db = r'<path to database>'\n",
    "conn = sql.connect(db)"
   ]
  },
  {
   "cell_type": "code",
   "execution_count": 4,
   "metadata": {
    "collapsed": false
   },
   "outputs": [],
   "source": [
    "# Creates dataframe for each year, puts it in a dictonary with the year as a key\n",
    "d={}\n",
    "for year in range(2009,2017,1):\n",
    "    year = str(year)\n",
    "    SQL_str = 'SELECT *  FROM RegularSeasonDetailedResults WHERE Season =' + year\n",
    "    d[\"df{0}\".format(year)]= pd.read_sql_query(SQL_str, conn)    "
   ]
  },
  {
   "cell_type": "code",
   "execution_count": 5,
   "metadata": {
    "collapsed": true
   },
   "outputs": [],
   "source": [
    "# creates a copy of the dataframe dictionary\n",
    "data_d = d.copy()"
   ]
  },
  {
   "cell_type": "markdown",
   "metadata": {},
   "source": [
    "### _Functions to modify each dataframe in the dictionary . Additions include low level statistics like % freethrows , and splits each game into two rows so that winner and loser team stats each have their own row._"
   ]
  },
  {
   "cell_type": "code",
   "execution_count": 6,
   "metadata": {
    "collapsed": true
   },
   "outputs": [],
   "source": [
    "# takes a dictionary of dataframes and modifies each df. Returns dictionary with modified dfs.\n",
    "def modify_dictdf(d):\n",
    "    # new dictionary\n",
    "    new_d = {}\n",
    "    # adds some low level agg. stats like %freethrow\n",
    "    for year, df in d.items():\n",
    "        df['Wspread'] = df['Wscore'] - df['Lscore']\n",
    "        df['Lspread'] = df['Lscore'] - df['Wscore']\n",
    "        df['W%_freethrow'] = df['Wftm']/(df['Wftm']+df['Wfta'])\n",
    "        df['W%_field_goals'] = df['Wfgm']/(df['Wfgm']+df['Wfga'])\n",
    "        df['W%_3pt'] = df['Wfgm3']/(df['Wfgm3']+df['Wfga3'])\n",
    "        df['L%_freethrow'] = df['Lftm']/(df['Lftm']+df['Lfta'])\n",
    "        df['L%_field_goals'] = df['Lfgm']/(df['Lfgm']+df['Lfga'])\n",
    "        df['L%_3pt'] = df['Lfgm3']/(df['Lfgm3']+df['Lfga3'])\n",
    "        # difference in offensive rebounds\n",
    "        df['W_dor'] = df['Wor']-df['Lor']\n",
    "        df['L_dor'] = df['Lor']-df['Wor']\n",
    "        # difference in defensive rebounds\n",
    "        df['W_ddR'] = df['Wdr']-df['Ldr']\n",
    "        df['L_ddR'] = df['Ldr']-df['Wdr']\n",
    "        # creates two rows for every game so that each game's stats are represented for both teams\n",
    "        #splits game data to team data\n",
    "        df_a = df[['Wteam', 'Wscore', 'Wfgm','Wfga', 'Wfgm3', 'Wfga3', 'Wftm', 'Wfta', 'Wor',\n",
    "                     'Wdr', 'Wast', 'Wto', 'Wstl', 'Wblk', 'Wpf', 'W%_freethrow', 'W%_field_goals', \n",
    "                   'W%_3pt', 'Wspread', 'W_dor', 'W_ddR']]\n",
    "        df_b = df[['Lteam', 'Lscore','Lfgm', 'Lfga', 'Lfgm3', 'Lfga3','Lftm', 'Lfta', 'Lor', 'Ldr', \n",
    "                   'Last', 'Lto', 'Lstl', 'Lblk', 'Lpf','L%_freethrow', 'L%_field_goals', 'L%_3pt', \n",
    "                   'Lspread', 'L_dor', 'L_ddR']]\n",
    "        # renames columns of winner and loser dataframes \n",
    "        df_a = df_a.rename(columns = {'Wteam':'team', 'Wscore': 'score', 'Wfgm': 'fgm','Wfga': 'fga', \n",
    "                                      'Wfgm3': 'fgm', 'Wfga3':'fga3', 'Wftm':'ftm', 'Wfta':'fta', \n",
    "                                      'Wor':'or', 'Wdr':'dr', 'Wast':'ast','Wto':'to', 'Wstl':'stl', \n",
    "                                      'Wblk':'blk', 'Wpf':'pf', 'W%_freethrow':'%_freethrow',\n",
    "                                      'W%_field_goals':'%field_goal', 'W%_3pt':'%_3pt', \n",
    "                                      'Wspread':'spread', 'W_dor':'dor', 'W_ddR':'ddR' })\n",
    "        df_b = df_b.rename(columns = {'Lteam':'team', 'Lscore': 'score','Lfgm': 'fgm', 'Lfga': 'fga',\n",
    "                                      'Lfgm3': 'fgm', 'Lfga3':'fga3','Lftm':'ftm', 'Lfta':'fta', \n",
    "                                      'Lor':'or', 'Ldr':'dr', 'Last':'ast','Lto':'to','Lstl':'stl',\n",
    "                                      'Lblk':'blk','Lpf':'pf','L%_freethrow':'%_freethrow', \n",
    "                                      'L%_field_goals':'%field_goal', 'L%_3pt':'%_3pt', \n",
    "                                      'Lspread':'spread', 'L_dor':'dor', 'L_ddR':'ddR'})\n",
    "        # combines winner and loser dataframes so that each game has two data rows and some extra info\n",
    "        df_comp = df_a.append(df_b)\n",
    "        # applies outcome function\n",
    "        add_outcome = outcome(df_comp)\n",
    "        # makes a new dictionary of dataframes \n",
    "        new_d[year] = add_outcome\n",
    "    return new_d\n"
   ]
  },
  {
   "cell_type": "code",
   "execution_count": 7,
   "metadata": {
    "collapsed": true
   },
   "outputs": [],
   "source": [
    "# takes a dataframe, adds an 'outcome' column where win = 1 and loss = 0, returns dataframe\n",
    "def outcome(df):\n",
    "    outcome = []\n",
    "    for num in df.spread:\n",
    "        if num > 0:\n",
    "            outcome.append(1)\n",
    "        if num < 0:\n",
    "            outcome.append(0)\n",
    "    df['outcome'] = outcome\n",
    "    return df"
   ]
  },
  {
   "cell_type": "markdown",
   "metadata": {},
   "source": [
    "###  *function to create a dictionary for every season where team is key, and game data for team is the value value*"
   ]
  },
  {
   "cell_type": "code",
   "execution_count": 13,
   "metadata": {
    "collapsed": false
   },
   "outputs": [],
   "source": [
    "def team_data(df):\n",
    "    clean_data = modify_dictdf(data_d)\n",
    "    # creates dictionary for every season where team is key, and game df for team is value\n",
    "    team_data = {}\n",
    "    for key in clean_data.keys():\n",
    "\n",
    "        df = clean_data[key]\n",
    "        name = 'team_dict' + key[2:]\n",
    "        name = {}\n",
    "        # list of team unique team ID numbers\n",
    "        teams = list(set(list(df.team)))\n",
    "        for team in teams:\n",
    "            name[team] = df[df.team == team]\n",
    "        team_data[key] = name\n",
    "    return team_data\n",
    "    \n"
   ]
  },
  {
   "cell_type": "markdown",
   "metadata": {},
   "source": [
    "## Using the previous functions to add features, separate each game into two rows in a pandas dataframe, and separate team data."
   ]
  },
  {
   "cell_type": "code",
   "execution_count": 8,
   "metadata": {
    "collapsed": false
   },
   "outputs": [],
   "source": [
    "# addition of low level statistics and separating winner and loser fields so that each game has two rows\n",
    "modified_data = modify_dictdf(data_d)"
   ]
  },
  {
   "cell_type": "code",
   "execution_count": 14,
   "metadata": {
    "collapsed": false
   },
   "outputs": [],
   "source": [
    "# adds low level statistics, splits each game into two rows, and separates\n",
    "# **depending on your computer this could take a few minutes\n",
    "team_data = team_data(data_d)"
   ]
  },
  {
   "cell_type": "markdown",
   "metadata": {},
   "source": [
    "# Now you are ready to start exploring the team_data!"
   ]
  },
  {
   "cell_type": "code",
   "execution_count": 18,
   "metadata": {
    "collapsed": true
   },
   "outputs": [],
   "source": [
    "# closes the connection to the database\n",
    "conn.close()"
   ]
  },
  {
   "cell_type": "code",
   "execution_count": null,
   "metadata": {
    "collapsed": true
   },
   "outputs": [],
   "source": []
  }
 ],
 "metadata": {
  "anaconda-cloud": {},
  "kernelspec": {
   "display_name": "Python [conda env:py36]",
   "language": "python",
   "name": "conda-env-py36-py"
  },
  "language_info": {
   "codemirror_mode": {
    "name": "ipython",
    "version": 3
   },
   "file_extension": ".py",
   "mimetype": "text/x-python",
   "name": "python",
   "nbconvert_exporter": "python",
   "pygments_lexer": "ipython3",
   "version": "3.6.0"
  }
 },
 "nbformat": 4,
 "nbformat_minor": 2
}
