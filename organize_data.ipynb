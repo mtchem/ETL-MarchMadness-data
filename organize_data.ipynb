{
 "cells": [
  {
   "cell_type": "markdown",
   "metadata": {},
   "source": [
    "# This notebook uses the March Madness dataset provided by Kaggel.com.  Pleas use kaggel.com to access that data. \n",
    "\n",
    "## *I put the flat data into a SQLite database on my local, for the notebook explaining that process please go to* https://github.com/mtchem/ETL-MarchMadness-data/blob/master/data_to_SQLite_DB.ipynb "
   ]
  },
  {
   "cell_type": "code",
   "execution_count": 1,
   "metadata": {
    "collapsed": false
   },
   "outputs": [],
   "source": [
    "# imports\n",
    "import sqlite3 as sql\n",
    "from sklearn import datasets\n",
    "from sklearn import metrics\n",
    "import pandas as pd\n",
    "import numpy as np\n",
    "import seaborn as sns\n",
    "import matplotlib.pyplot as plt\n",
    "%matplotlib inline\n"
   ]
  },
  {
   "cell_type": "markdown",
   "metadata": {},
   "source": [
    "### Create a connection to the database, pull data from the RegularSeasonDetailedResults table, separate each season into a pandas dataframe and put the dataframes into a dictionary with the year of each season as the key."
   ]
  },
  {
   "cell_type": "code",
   "execution_count": null,
   "metadata": {
    "collapsed": true
   },
   "outputs": [],
   "source": [
    "# creates a connection to by local SQLite NCAA database\n",
    "## * I pull from the database each time to guarantee that no raw/original data is modified\n",
    "db = r'<path to database>'\n",
    "conn = sql.connect(db)"
   ]
  },
  {
   "cell_type": "code",
   "execution_count": 3,
   "metadata": {
    "collapsed": true
   },
   "outputs": [],
   "source": [
    "# creates a connection to by local SQLite NCAA database\n",
    "## * I pull from the database each time to guarantee that no raw/original data is modified\n",
    "db = r'C:\\Users\\aregel\\Documents\\kaggel\\NCAA-project\\raw-data\\kaggel-data.db'\n",
    "conn = sql.connect(db)"
   ]
  },
  {
   "cell_type": "code",
   "execution_count": 4,
   "metadata": {
    "collapsed": false
   },
   "outputs": [],
   "source": [
    "# Creates dataframe for each year, puts it in a dictonary with the year as a key\n",
    "d={}\n",
    "for year in range(2009,2017,1):\n",
    "    year = str(year)\n",
    "    SQL_str = 'SELECT *  FROM RegularSeasonDetailedResults WHERE Season =' + year\n",
    "    d[\"df{0}\".format(year)]= pd.read_sql_query(SQL_str, conn)    "
   ]
  },
  {
   "cell_type": "code",
   "execution_count": 5,
   "metadata": {
    "collapsed": true
   },
   "outputs": [],
   "source": [
    "# creates a copy of the dataframe dictionary\n",
    "data_d = d.copy()"
   ]
  },
  {
   "cell_type": "markdown",
   "metadata": {},
   "source": [
    "### _Functions to modify each dataframe in the dictionary . Additions include low level statistics like % freethrows , and splits each game into two rows so that winner and loser team stats each have their own row._"
   ]
  },
  {
   "cell_type": "code",
   "execution_count": 6,
   "metadata": {
    "collapsed": true
   },
   "outputs": [],
   "source": [
    "# takes a dictionary of dataframes and modifies each df. Returns dictionary with modified dfs.\n",
    "def modify_dictdf(d):\n",
    "    # new dictionary\n",
    "    new_d = {}\n",
    "    # adds some low level agg. stats like %freethrow\n",
    "    for year, df in d.items():\n",
    "        df['Wspread'] = df['Wscore'] - df['Lscore']\n",
    "        df['Lspread'] = df['Lscore'] - df['Wscore']\n",
    "        df['W%_freethrow'] = df['Wftm']/(df['Wftm']+df['Wfta'])\n",
    "        df['W%_field_goals'] = df['Wfgm']/(df['Wfgm']+df['Wfga'])\n",
    "        df['W%_3pt'] = df['Wfgm3']/(df['Wfgm3']+df['Wfga3'])\n",
    "        df['L%_freethrow'] = df['Lftm']/(df['Lftm']+df['Lfta'])\n",
    "        df['L%_field_goals'] = df['Lfgm']/(df['Lfgm']+df['Lfga'])\n",
    "        df['L%_3pt'] = df['Lfgm3']/(df['Lfgm3']+df['Lfga3'])\n",
    "        # difference in offensive rebounds\n",
    "        df['W_dor'] = df['Wor']-df['Lor']\n",
    "        df['L_dor'] = df['Lor']-df['Wor']\n",
    "        # difference in defensive rebounds\n",
    "        df['W_ddR'] = df['Wdr']-df['Ldr']\n",
    "        df['L_ddR'] = df['Ldr']-df['Wdr']\n",
    "        # creates two rows for every game so that each game's stats are represented for both teams\n",
    "        #splits game data to team data\n",
    "        df_a = df[['Wteam', 'Wscore', 'Wfgm','Wfga', 'Wfgm3', 'Wfga3', 'Wftm', 'Wfta', 'Wor',\n",
    "                     'Wdr', 'Wast', 'Wto', 'Wstl', 'Wblk', 'Wpf', 'W%_freethrow', 'W%_field_goals', \n",
    "                   'W%_3pt', 'Wspread', 'W_dor', 'W_ddR']]\n",
    "        df_b = df[['Lteam', 'Lscore','Lfgm', 'Lfga', 'Lfgm3', 'Lfga3','Lftm', 'Lfta', 'Lor', 'Ldr', \n",
    "                   'Last', 'Lto', 'Lstl', 'Lblk', 'Lpf','L%_freethrow', 'L%_field_goals', 'L%_3pt', \n",
    "                   'Lspread', 'L_dor', 'L_ddR']]\n",
    "        # renames columns of winner and loser dataframes \n",
    "        df_a = df_a.rename(columns = {'Wteam':'team', 'Wscore': 'score', 'Wfgm': 'fgm','Wfga': 'fga', \n",
    "                                      'Wfgm3': 'fgm', 'Wfga3':'fga3', 'Wftm':'ftm', 'Wfta':'fta', \n",
    "                                      'Wor':'or', 'Wdr':'dr', 'Wast':'ast','Wto':'to', 'Wstl':'stl', \n",
    "                                      'Wblk':'blk', 'Wpf':'pf', 'W%_freethrow':'%_freethrow',\n",
    "                                      'W%_field_goals':'%field_goal', 'W%_3pt':'%_3pt', \n",
    "                                      'Wspread':'spread', 'W_dor':'dor', 'W_ddR':'ddR' })\n",
    "        df_b = df_b.rename(columns = {'Lteam':'team', 'Lscore': 'score','Lfgm': 'fgm', 'Lfga': 'fga',\n",
    "                                      'Lfgm3': 'fgm', 'Lfga3':'fga3','Lftm':'ftm', 'Lfta':'fta', \n",
    "                                      'Lor':'or', 'Ldr':'dr', 'Last':'ast','Lto':'to','Lstl':'stl',\n",
    "                                      'Lblk':'blk','Lpf':'pf','L%_freethrow':'%_freethrow', \n",
    "                                      'L%_field_goals':'%field_goal', 'L%_3pt':'%_3pt', \n",
    "                                      'Lspread':'spread', 'L_dor':'dor', 'L_ddR':'ddR'})\n",
    "        # combines winner and loser dataframes so that each game has two data rows and some extra info\n",
    "        df_comp = df_a.append(df_b)\n",
    "        # applies outcome function\n",
    "        add_outcome = outcome(df_comp)\n",
    "        # makes a new dictionary of dataframes \n",
    "        new_d[year] = add_outcome\n",
    "    return new_d\n"
   ]
  },
  {
   "cell_type": "code",
   "execution_count": 7,
   "metadata": {
    "collapsed": true
   },
   "outputs": [],
   "source": [
    "# takes a dataframe, adds an 'outcome' column where win = 1 and loss = 0, returns dataframe\n",
    "def outcome(df):\n",
    "    outcome = []\n",
    "    for num in df.spread:\n",
    "        if num > 0:\n",
    "            outcome.append(1)\n",
    "        if num < 0:\n",
    "            outcome.append(0)\n",
    "    df['outcome'] = outcome\n",
    "    return df"
   ]
  },
  {
   "cell_type": "markdown",
   "metadata": {},
   "source": [
    "###  *function to create a dictionary for every season where team is key, and game data for team is the value value*"
   ]
  },
  {
   "cell_type": "code",
   "execution_count": 13,
   "metadata": {
    "collapsed": false
   },
   "outputs": [],
   "source": [
    "def team_data(df):\n",
    "    clean_data = modify_dictdf(data_d)\n",
    "    # creates dictionary for every season where team is key, and game df for team is value\n",
    "    team_data = {}\n",
    "    for key in clean_data.keys():\n",
    "\n",
    "        df = clean_data[key]\n",
    "        name = 'team_dict' + key[2:]\n",
    "        name = {}\n",
    "        # list of team unique team ID numbers\n",
    "        teams = list(set(list(df.team)))\n",
    "        for team in teams:\n",
    "            name[team] = df[df.team == team]\n",
    "        team_data[key] = name\n",
    "    return team_data\n",
    "    \n"
   ]
  },
  {
   "cell_type": "markdown",
   "metadata": {},
   "source": [
    "## Using the previous functions to add features, separate each game into two rows in a pandas dataframe, and separate team data."
   ]
  },
  {
   "cell_type": "code",
   "execution_count": 8,
   "metadata": {
    "collapsed": false
   },
   "outputs": [],
   "source": [
    "# addition of low level statistics and separating winner and loser fields so that each game has two rows\n",
    "modified_data = modify_dictdf(data_d)"
   ]
  },
  {
   "cell_type": "code",
   "execution_count": 14,
   "metadata": {
    "collapsed": false
   },
   "outputs": [],
   "source": [
    "# adds low level statistics, splits each game into two rows, and separates\n",
    "# **depending on your computer this could take a few minutes\n",
    "team_data = team_data(data_d)"
   ]
  },
  {
   "cell_type": "code",
   "execution_count": 16,
   "metadata": {
    "collapsed": false
   },
   "outputs": [
    {
     "data": {
      "text/plain": [
       "dict_keys(['df2009', 'df2010', 'df2011', 'df2012', 'df2013', 'df2014', 'df2015', 'df2016'])"
      ]
     },
     "execution_count": 16,
     "metadata": {},
     "output_type": "execute_result"
    }
   ],
   "source": [
    "team_data.keys()"
   ]
  },
  {
   "cell_type": "code",
   "execution_count": 17,
   "metadata": {
    "collapsed": false
   },
   "outputs": [
    {
     "data": {
      "text/plain": [
       "dict_keys([1102, 1103, 1104, 1105, 1106, 1107, 1108, 1110, 1111, 1112, 1113, 1114, 1115, 1116, 1117, 1119, 1120, 1122, 1123, 1124, 1125, 1126, 1127, 1129, 1130, 1131, 1132, 1133, 1135, 1136, 1137, 1138, 1139, 1140, 1141, 1142, 1143, 1144, 1145, 1146, 1148, 1149, 1150, 1151, 1152, 1153, 1154, 1155, 1156, 1157, 1158, 1159, 1160, 1161, 1162, 1163, 1164, 1165, 1166, 1167, 1168, 1169, 1170, 1171, 1172, 1173, 1174, 1175, 1176, 1177, 1178, 1179, 1180, 1181, 1182, 1183, 1184, 1185, 1186, 1187, 1188, 1189, 1190, 1191, 1192, 1193, 1194, 1195, 1196, 1197, 1198, 1199, 1200, 1201, 1202, 1203, 1204, 1205, 1206, 1207, 1208, 1209, 1210, 1211, 1212, 1214, 1216, 1217, 1218, 1219, 1220, 1221, 1222, 1223, 1224, 1225, 1226, 1227, 1228, 1229, 1231, 1232, 1233, 1234, 1235, 1236, 1237, 1238, 1239, 1240, 1241, 1242, 1243, 1244, 1245, 1246, 1247, 1248, 1249, 1250, 1251, 1252, 1253, 1254, 1255, 1256, 1257, 1258, 1259, 1260, 1261, 1263, 1264, 1265, 1266, 1267, 1268, 1269, 1270, 1271, 1272, 1273, 1274, 1275, 1276, 1277, 1278, 1279, 1280, 1281, 1282, 1283, 1284, 1285, 1286, 1287, 1288, 1290, 1291, 1292, 1293, 1294, 1295, 1296, 1297, 1298, 1299, 1300, 1301, 1303, 1304, 1305, 1306, 1307, 1308, 1309, 1310, 1311, 1312, 1313, 1314, 1315, 1316, 1317, 1318, 1319, 1320, 1321, 1322, 1323, 1324, 1325, 1326, 1328, 1329, 1330, 1331, 1332, 1333, 1334, 1335, 1336, 1337, 1338, 1339, 1340, 1341, 1342, 1343, 1344, 1345, 1346, 1347, 1348, 1349, 1350, 1351, 1352, 1353, 1354, 1355, 1356, 1357, 1358, 1359, 1360, 1361, 1362, 1363, 1364, 1365, 1366, 1367, 1368, 1369, 1370, 1371, 1372, 1373, 1374, 1375, 1376, 1377, 1378, 1379, 1380, 1381, 1382, 1383, 1384, 1385, 1386, 1387, 1388, 1389, 1390, 1391, 1392, 1393, 1394, 1395, 1396, 1397, 1398, 1399, 1400, 1401, 1402, 1403, 1404, 1405, 1406, 1407, 1408, 1409, 1410, 1411, 1412, 1413, 1414, 1415, 1416, 1417, 1418, 1419, 1420, 1421, 1422, 1423, 1424, 1425, 1426, 1427, 1428, 1429, 1430, 1431, 1433, 1434, 1435, 1436, 1437, 1438, 1439, 1440, 1441, 1442, 1443, 1444, 1447, 1448, 1449, 1450, 1451, 1452, 1453, 1454, 1455, 1456, 1457, 1458, 1459, 1460, 1461, 1462, 1463, 1464])"
      ]
     },
     "execution_count": 17,
     "metadata": {},
     "output_type": "execute_result"
    }
   ],
   "source": [
    "team_data['df2013'].keys()"
   ]
  },
  {
   "cell_type": "markdown",
   "metadata": {},
   "source": [
    "# Now you are ready to start exploring the data!"
   ]
  },
  {
   "cell_type": "code",
   "execution_count": 18,
   "metadata": {
    "collapsed": true
   },
   "outputs": [],
   "source": [
    "# closes the connection to the database\n",
    "conn.close()"
   ]
  },
  {
   "cell_type": "code",
   "execution_count": null,
   "metadata": {
    "collapsed": true
   },
   "outputs": [],
   "source": []
  }
 ],
 "metadata": {
  "anaconda-cloud": {},
  "kernelspec": {
   "display_name": "Python [conda env:py36]",
   "language": "python",
   "name": "conda-env-py36-py"
  },
  "language_info": {
   "codemirror_mode": {
    "name": "ipython",
    "version": 3
   },
   "file_extension": ".py",
   "mimetype": "text/x-python",
   "name": "python",
   "nbconvert_exporter": "python",
   "pygments_lexer": "ipython3",
   "version": "3.6.0"
  }
 },
 "nbformat": 4,
 "nbformat_minor": 2
}
