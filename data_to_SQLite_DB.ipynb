{
 "cells": [
  {
   "cell_type": "markdown",
   "metadata": {},
   "source": [
    "# This notebook will walk you through each step of creating a SQLite Database for the kaggle.com March Machine Learning Mania 2017 competition.\n",
    "\n",
    "### *In order to use this notebook you need to obtain the data from kaggle.com"
   ]
  },
  {
   "cell_type": "markdown",
   "metadata": {},
   "source": [
    "### Create a Database\n",
    "    1. Download DB Browser for SQLite at http://sqlitebrowser.org/ \n",
    "    2. Open the program and make a New Database, call it Data.db"
   ]
  },
  {
   "cell_type": "markdown",
   "metadata": {},
   "source": [
    "### Import sqlite and pandas modules"
   ]
  },
  {
   "cell_type": "code",
   "execution_count": 1,
   "metadata": {
    "collapsed": false
   },
   "outputs": [],
   "source": [
    "import sqlite3 as sql\n",
    "import pandas as pd"
   ]
  },
  {
   "cell_type": "markdown",
   "metadata": {},
   "source": [
    "### Make a connection to your database"
   ]
  },
  {
   "cell_type": "code",
   "execution_count": 2,
   "metadata": {
    "collapsed": false
   },
   "outputs": [],
   "source": [
    "# make a variable containing the file path (as a raw string) to your data.db file, below is an example\n",
    "db = r'C:\\Users\\...\\data.db'\n",
    "# the variable conn contains the connection to your database\n",
    "conn = sql.connect(db)"
   ]
  },
  {
   "cell_type": "markdown",
   "metadata": {},
   "source": [
    "### Create pandas dataframes for each .csv data file provided by kaggle.com, then add each dataframe to the database as a table in the database."
   ]
  },
  {
   "cell_type": "code",
   "execution_count": null,
   "metadata": {
    "collapsed": true
   },
   "outputs": [],
   "source": [
    "# variables containing the file paths to the .csv data (this will vary depending on where you saved the files)\n",
    "file1 = r'C:\\Users\\user\\Desktop\\Teams.csv'\n",
    "file2 = r'C:\\Users\\user\\Desktop\\Seasons.csv'\n",
    "file3 = r'C:\\Users\\user\\Desktop\\RegularSeasonCompactResults.csv'\n",
    "file4 = r'C:\\Users\\user\\Desktop\\RegularSeasonDetailedResults.csv'\n",
    "file5 = r'C:\\Users\\user\\Desktop\\TourneyCompactResults.csv'\n",
    "file6 = r'C:\\Users\\user\\Desktop\\TourneyDetailedResults.csv'\n",
    "file7 = r'C:\\Users\\user\\Desktop\\TourneySeeds.csv'\n",
    "file8 = r'C:\\Users\\user\\Desktop\\TourneySlots.csv'\n"
   ]
  },
  {
   "cell_type": "code",
   "execution_count": 4,
   "metadata": {
    "collapsed": true
   },
   "outputs": [],
   "source": [
    "# list of files\n",
    "files = [file1,file2, file3, file4, file5, file6, file7, file8]\n",
    "# list of the future database Table names, with a place holder in index 0\n",
    "table_names = ['Teams','Seasons','RegularSeasonCompactResults','RegularSeasonDetailedResults',\n",
    "              'TourneyCompactResults', 'TourneyDetailedResults','TourneySeeds','TourneySlots']"
   ]
  },
  {
   "cell_type": "code",
   "execution_count": 5,
   "metadata": {
    "collapsed": false
   },
   "outputs": [],
   "source": [
    "# adds the csv data to the database as tables\n",
    "for i in range(0,8):\n",
    "    # create dataframe for each of the .csv files\n",
    "    file_name = files[i]\n",
    "    df = pd.read_csv(file_name)\n",
    "    # adds the dataframe to the database\n",
    "    table_name = table_names[i]\n",
    "    df.to_sql(table_name, conn, if_exists='append', index=False)"
   ]
  },
  {
   "cell_type": "code",
   "execution_count": 6,
   "metadata": {
    "collapsed": true
   },
   "outputs": [],
   "source": [
    "# closes the connection to the database\n",
    "conn.close() "
   ]
  },
  {
   "cell_type": "markdown",
   "metadata": {},
   "source": [
    "## That's it!  You did it!"
   ]
  }
 ],
 "metadata": {
  "anaconda-cloud": {},
  "kernelspec": {
   "display_name": "Python [conda env:py27]",
   "language": "python",
   "name": "conda-env-py27-py"
  },
  "language_info": {
   "codemirror_mode": {
    "name": "ipython",
    "version": 2
   },
   "file_extension": ".py",
   "mimetype": "text/x-python",
   "name": "python",
   "nbconvert_exporter": "python",
   "pygments_lexer": "ipython2",
   "version": "2.7.13"
  }
 },
 "nbformat": 4,
 "nbformat_minor": 2
}
